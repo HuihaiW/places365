{
 "cells": [
  {
   "cell_type": "code",
   "execution_count": 1,
   "metadata": {},
   "outputs": [],
   "source": [
    "import numpy as np\n",
    "import sys\n",
    "import caffe\n",
    "import pickle\n",
    "# caffe.set_mode_gpu()\n",
    "# caffe.set_device(0)"
   ]
  },
  {
   "cell_type": "code",
   "execution_count": 8,
   "metadata": {},
   "outputs": [],
   "source": [
    "def classify_scene(fpath_design, fpath_weights, fpath_labels, im):\n",
    "\n",
    "    # initialize net\n",
    "    net = caffe.Net(fpath_design, fpath_weights, caffe.TEST)\n",
    "\n",
    "    # load input and configure preprocessing\n",
    "    transformer = caffe.io.Transformer({'data': net.blobs['data'].data.shape})\n",
    "    transformer.set_mean('data', np.load('/home/huihai/anaconda3/envs/caffe/lib/python3.7/site-packages/caffe/imagenet/ilsvrc_2012_mean.npy').mean(1).mean(1)) # TODO - remove hardcoded path\n",
    "    transformer.set_transpose('data', (2,0,1))\n",
    "    transformer.set_channel_swap('data', (2,1,0))\n",
    "    transformer.set_raw_scale('data', 255.0)\n",
    "\n",
    "    # since we classify only one image, we change batch size from 10 to 1\n",
    "    net.blobs['data'].reshape(1,3,224,224)\n",
    "\n",
    "    # load the image in the data layer\n",
    "    net.blobs['data'].data[...] = transformer.preprocess('data', im)\n",
    "\n",
    "    # compute\n",
    "    out = net.forward()\n",
    "\n",
    "    # print top 5 predictions - TODO return as bytearray?\n",
    "    with open(fpath_labels, 'rb') as f:\n",
    "\n",
    "        labels = pickle.load(f)\n",
    "        top_k = net.blobs['prob'].data[0].flatten().argsort()[-1:-6:-1]\n",
    "\n",
    "        for i, k in enumerate(top_k):\n",
    "            print (i, labels[k])"
   ]
  },
  {
   "cell_type": "code",
   "execution_count": 9,
   "metadata": {},
   "outputs": [
    {
     "name": "stdout",
     "output_type": "stream",
     "text": [
      "0 kennel\n",
      "1 driveway\n",
      "2 parking_lot\n",
      "3 playground\n",
      "4 promenade\n"
     ]
    }
   ],
   "source": [
    "fpath_design = 'deploy_vgg16_places365.prototxt'\n",
    "fpath_weights = 'vgg16_places365.caffemodel'\n",
    "fpath_labels = 'labels.pkl'\n",
    "im = caffe.io.load_image('test.jpg')\n",
    "classify_scene(fpath_design, fpath_weights, fpath_labels, im)"
   ]
  },
  {
   "cell_type": "code",
   "execution_count": 5,
   "metadata": {},
   "outputs": [
    {
     "data": {
      "text/plain": [
       "(640, 640, 3)"
      ]
     },
     "execution_count": 5,
     "metadata": {},
     "output_type": "execute_result"
    }
   ],
   "source": [
    "im.shape"
   ]
  },
  {
   "cell_type": "code",
   "execution_count": null,
   "metadata": {},
   "outputs": [],
   "source": []
  },
  {
   "cell_type": "code",
   "execution_count": null,
   "metadata": {},
   "outputs": [],
   "source": []
  }
 ],
 "metadata": {
  "kernelspec": {
   "display_name": "Python 3",
   "language": "python",
   "name": "python3"
  },
  "language_info": {
   "codemirror_mode": {
    "name": "ipython",
    "version": 3
   },
   "file_extension": ".py",
   "mimetype": "text/x-python",
   "name": "python",
   "nbconvert_exporter": "python",
   "pygments_lexer": "ipython3",
   "version": "3.7.9"
  }
 },
 "nbformat": 4,
 "nbformat_minor": 4
}
